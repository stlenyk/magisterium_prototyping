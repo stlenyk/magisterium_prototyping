{
 "cells": [
  {
   "cell_type": "code",
   "execution_count": 18,
   "metadata": {},
   "outputs": [
    {
     "name": "stdout",
     "output_type": "stream",
     "text": [
      "2.55 0.16\n",
      "15.09 0.10\n",
      "5.70 0.04\n",
      "5.78 0.09\n"
     ]
    }
   ],
   "source": [
    "import pandas as pd\n",
    "\n",
    "cross_vmap = pd.read_csv(\"bench_vmap_crossover.txt\", header=None)\n",
    "cross_batch = pd.read_csv(\"bench_vmap_crossover_batch.txt\", header=None)\n",
    "onemax_vmap = pd.read_csv(\"bench_vmap_one_max.txt\", header=None)\n",
    "onemax_batch = pd.read_csv(\"bench_vmap_one_max_batch.txt\", header=None)\n",
    "\n",
    "#print mean and std of all four benchmarks. they don't have headers, just single columns\n",
    "\n",
    "print(f\"{cross_vmap.mean().values[0]:.2f}\", f\"{cross_vmap.std().values[0]:.2f}\")\n",
    "print(f\"{cross_batch.mean().values[0]:.2f}\", f\"{cross_batch.std().values[0]:.2f}\")\n",
    "print(f\"{onemax_vmap.mean().values[0]:.2f}\", f\"{onemax_vmap.std().values[0]:.2f}\")\n",
    "print(f\"{onemax_batch.mean().values[0]:.2f}\", f\"{onemax_batch.std().values[0]:.2f}\")"
   ]
  }
 ],
 "metadata": {
  "kernelspec": {
   "display_name": ".venv",
   "language": "python",
   "name": "python3"
  },
  "language_info": {
   "codemirror_mode": {
    "name": "ipython",
    "version": 3
   },
   "file_extension": ".py",
   "mimetype": "text/x-python",
   "name": "python",
   "nbconvert_exporter": "python",
   "pygments_lexer": "ipython3",
   "version": "3.10.12"
  }
 },
 "nbformat": 4,
 "nbformat_minor": 2
}
