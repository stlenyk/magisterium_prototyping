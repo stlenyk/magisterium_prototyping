{
 "cells": [
  {
   "cell_type": "code",
   "execution_count": null,
   "metadata": {},
   "outputs": [],
   "source": [
    "import tensorflow as tf\n",
    "from timeit import default_timer\n",
    "\n",
    "n = 1000\n",
    "iters = 10000\n",
    "shape = (n, n)\n",
    "t1 = tf.random.uniform(shape)\n",
    "t2 = tf.random.uniform(shape)\n",
    "\n",
    "time0 = default_timer()\n",
    "for _ in range(iters):\n",
    "    tf.matmul(t1, t2)\n",
    "time0 = default_timer() - time0\n",
    "print(\"{:.2f} ms\".format(time0 / iters * 1000))"
   ]
  }
 ],
 "metadata": {
  "kernelspec": {
   "display_name": "Python 3 (ipykernel)",
   "language": "python",
   "name": "python3"
  },
  "language_info": {
   "codemirror_mode": {
    "name": "ipython",
    "version": 3
   },
   "file_extension": ".py",
   "mimetype": "text/x-python",
   "name": "python",
   "nbconvert_exporter": "python",
   "pygments_lexer": "ipython3",
   "version": "3.11.0rc1"
  }
 },
 "nbformat": 4,
 "nbformat_minor": 2
}
